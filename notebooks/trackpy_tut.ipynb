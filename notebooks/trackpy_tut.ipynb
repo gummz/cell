{
 "cells": [
  {
   "cell_type": "code",
   "execution_count": 6,
   "metadata": {},
   "outputs": [
    {
     "name": "stdout",
     "output_type": "stream",
     "text": [
      "/work3/s203004/data/interim/sample.npy\n"
     ]
    },
    {
     "ename": "IndexError",
     "evalue": "index 2 is out of bounds for axis 1 with size 1",
     "output_type": "error",
     "traceback": [
      "\u001b[0;31m---------------------------------------------------------------------------\u001b[0m",
      "\u001b[0;31mIndexError\u001b[0m                                Traceback (most recent call last)",
      "\u001b[1;32m/home/gummz/dtu/cell/cell/notebooks/trackpy_tut.ipynb Cell 1'\u001b[0m in \u001b[0;36m<cell line: 5>\u001b[0;34m()\u001b[0m\n\u001b[1;32m      <a href='vscode-notebook-cell://wsl%2Bubuntu/home/gummz/dtu/cell/cell/notebooks/trackpy_tut.ipynb#ch0000000vscode-remote?line=2'>3</a>\u001b[0m \u001b[39mimport\u001b[39;00m \u001b[39mos\u001b[39;00m\u001b[39m.\u001b[39;00m\u001b[39mpath\u001b[39;00m \u001b[39mas\u001b[39;00m \u001b[39mosp\u001b[39;00m\n\u001b[1;32m      <a href='vscode-notebook-cell://wsl%2Bubuntu/home/gummz/dtu/cell/cell/notebooks/trackpy_tut.ipynb#ch0000000vscode-remote?line=3'>4</a>\u001b[0m \u001b[39mprint\u001b[39m(c\u001b[39m.\u001b[39mSAMPLE_PATH)\n\u001b[0;32m----> <a href='vscode-notebook-cell://wsl%2Bubuntu/home/gummz/dtu/cell/cell/notebooks/trackpy_tut.ipynb#ch0000000vscode-remote?line=4'>5</a>\u001b[0m frames \u001b[39m=\u001b[39m pims\u001b[39m.\u001b[39;49mImageSequenceND(osp\u001b[39m.\u001b[39;49mjoin(\u001b[39m'\u001b[39;49m\u001b[39m../data/interim/\u001b[39;49m\u001b[39m'\u001b[39;49m, \u001b[39m'\u001b[39;49m\u001b[39msample.npy\u001b[39;49m\u001b[39m'\u001b[39;49m), axes_identifiers\u001b[39m=\u001b[39;49m\u001b[39m'\u001b[39;49m\u001b[39mtzc\u001b[39;49m\u001b[39m'\u001b[39;49m)\n\u001b[1;32m      <a href='vscode-notebook-cell://wsl%2Bubuntu/home/gummz/dtu/cell/cell/notebooks/trackpy_tut.ipynb#ch0000000vscode-remote?line=5'>6</a>\u001b[0m frames\u001b[39m.\u001b[39mbundle_axes \u001b[39m=\u001b[39m [\u001b[39m'\u001b[39m\u001b[39mz\u001b[39m\u001b[39m'\u001b[39m, \u001b[39m'\u001b[39m\u001b[39my\u001b[39m\u001b[39m'\u001b[39m, \u001b[39m'\u001b[39m\u001b[39mx\u001b[39m\u001b[39m'\u001b[39m]\n\u001b[1;32m      <a href='vscode-notebook-cell://wsl%2Bubuntu/home/gummz/dtu/cell/cell/notebooks/trackpy_tut.ipynb#ch0000000vscode-remote?line=6'>7</a>\u001b[0m frames\u001b[39m.\u001b[39miter_axes \u001b[39m=\u001b[39m \u001b[39m'\u001b[39m\u001b[39mt\u001b[39m\u001b[39m'\u001b[39m\n",
      "File \u001b[0;32m~/anaconda3/envs/cell/lib/python3.8/site-packages/pims/image_sequence.py:378\u001b[0m, in \u001b[0;36mImageSequenceND.__init__\u001b[0;34m(self, path_spec, plugin, axes_identifiers)\u001b[0m\n\u001b[1;32m    376\u001b[0m     \u001b[39mraise\u001b[39;00m \u001b[39mValueError\u001b[39;00m(\u001b[39m\"\u001b[39m\u001b[39mAxis \u001b[39m\u001b[39m'\u001b[39m\u001b[39my\u001b[39m\u001b[39m'\u001b[39m\u001b[39m is reserved\u001b[39m\u001b[39m\"\u001b[39m)\n\u001b[1;32m    377\u001b[0m \u001b[39mself\u001b[39m\u001b[39m.\u001b[39maxes_identifiers \u001b[39m=\u001b[39m axes_identifiers\n\u001b[0;32m--> 378\u001b[0m ImageSequence\u001b[39m.\u001b[39;49m\u001b[39m__init__\u001b[39;49m(\u001b[39mself\u001b[39;49m, path_spec, plugin)\n\u001b[1;32m    379\u001b[0m shape \u001b[39m=\u001b[39m \u001b[39mself\u001b[39m\u001b[39m.\u001b[39m_first_frame_shape\n\u001b[1;32m    380\u001b[0m \u001b[39mif\u001b[39;00m \u001b[39mlen\u001b[39m(shape) \u001b[39m==\u001b[39m \u001b[39m2\u001b[39m:\n",
      "File \u001b[0;32m~/anaconda3/envs/cell/lib/python3.8/site-packages/pims/image_sequence.py:66\u001b[0m, in \u001b[0;36mImageSequence.__init__\u001b[0;34m(self, path_spec, plugin)\u001b[0m\n\u001b[1;32m     64\u001b[0m \u001b[39mself\u001b[39m\u001b[39m.\u001b[39m_is_zipfile \u001b[39m=\u001b[39m \u001b[39mFalse\u001b[39;00m\n\u001b[1;32m     65\u001b[0m \u001b[39mself\u001b[39m\u001b[39m.\u001b[39m_zipfile \u001b[39m=\u001b[39m \u001b[39mNone\u001b[39;00m\n\u001b[0;32m---> 66\u001b[0m \u001b[39mself\u001b[39;49m\u001b[39m.\u001b[39;49m_get_files(path_spec)\n\u001b[1;32m     68\u001b[0m tmp \u001b[39m=\u001b[39m \u001b[39mself\u001b[39m\u001b[39m.\u001b[39mimread(\u001b[39mself\u001b[39m\u001b[39m.\u001b[39m_filepaths[\u001b[39m0\u001b[39m], \u001b[39m*\u001b[39m\u001b[39m*\u001b[39m\u001b[39mself\u001b[39m\u001b[39m.\u001b[39mkwargs)\n\u001b[1;32m     69\u001b[0m \u001b[39mself\u001b[39m\u001b[39m.\u001b[39m_first_frame_shape \u001b[39m=\u001b[39m tmp\u001b[39m.\u001b[39mshape\n",
      "File \u001b[0;32m~/anaconda3/envs/cell/lib/python3.8/site-packages/pims/image_sequence.py:416\u001b[0m, in \u001b[0;36mImageSequenceND._get_files\u001b[0;34m(self, path_spec)\u001b[0m\n\u001b[1;32m    413\u001b[0m \u001b[39mself\u001b[39m\u001b[39m.\u001b[39m_toc \u001b[39m=\u001b[39m np\u001b[39m.\u001b[39marray([filename_to_indices(f, \u001b[39mself\u001b[39m\u001b[39m.\u001b[39maxes_identifiers)\n\u001b[1;32m    414\u001b[0m                       \u001b[39mfor\u001b[39;00m f \u001b[39min\u001b[39;00m \u001b[39mself\u001b[39m\u001b[39m.\u001b[39m_filepaths])\n\u001b[1;32m    415\u001b[0m \u001b[39mfor\u001b[39;00m n, name \u001b[39min\u001b[39;00m \u001b[39menumerate\u001b[39m(\u001b[39mself\u001b[39m\u001b[39m.\u001b[39maxes_identifiers):\n\u001b[0;32m--> 416\u001b[0m     \u001b[39mif\u001b[39;00m np\u001b[39m.\u001b[39mall(\u001b[39mself\u001b[39;49m\u001b[39m.\u001b[39;49m_toc[:, n] \u001b[39m==\u001b[39m \u001b[39m0\u001b[39m):\n\u001b[1;32m    417\u001b[0m         \u001b[39mself\u001b[39m\u001b[39m.\u001b[39m_toc \u001b[39m=\u001b[39m np\u001b[39m.\u001b[39mdelete(\u001b[39mself\u001b[39m\u001b[39m.\u001b[39m_toc, n, axis\u001b[39m=\u001b[39m\u001b[39m1\u001b[39m)\n\u001b[1;32m    418\u001b[0m     \u001b[39melse\u001b[39;00m:\n",
      "\u001b[0;31mIndexError\u001b[0m: index 2 is out of bounds for axis 1 with size 1"
     ]
    }
   ],
   "source": [
    "import pims\n",
    "import src.data.constants as c\n",
    "import os.path as osp\n",
    "print(c.SAMPLE_PATH)\n",
    "frames = pims.ImageSequenceND(osp.join('../data/interim/', 'sample.npy'), axes_identifiers='tzc')\n",
    "frames.bundle_axes = ['z', 'y', 'x']\n",
    "frames.iter_axes = 't'\n",
    "frames"
   ]
  }
 ],
 "metadata": {
  "kernelspec": {
   "display_name": "Python 3.8.11 ('cell')",
   "language": "python",
   "name": "python3"
  },
  "language_info": {
   "codemirror_mode": {
    "name": "ipython",
    "version": 3
   },
   "file_extension": ".py",
   "mimetype": "text/x-python",
   "name": "python",
   "nbconvert_exporter": "python",
   "pygments_lexer": "ipython3",
   "version": "3.8.11"
  },
  "orig_nbformat": 4,
  "vscode": {
   "interpreter": {
    "hash": "683d8123609b37ed940473978120cce5b9ecf77d16c1cf116704c38b0c564b23"
   }
  }
 },
 "nbformat": 4,
 "nbformat_minor": 2
}
