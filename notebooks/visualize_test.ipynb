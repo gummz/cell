{
 "cells": [
  {
   "cell_type": "code",
   "execution_count": 9,
   "metadata": {},
   "outputs": [],
   "source": [
    "\n",
    "import torch\n",
    "import cv2\n",
    "from matplotlib.image import BboxImage\n",
    "import matplotlib.pyplot as plt\n",
    "import numpy as np\n",
    "import torch\n",
    "import torchvision\n",
    "from PIL import Image\n",
    "from src.data.constants import DATA_DIR, TIMEPOINTS, NB_DIR\n",
    "from src.models.utils.model import get_instance_segmentation_model\n",
    "from src.models.utils.utils import collate_fn\n",
    "from torch.utils.data import DataLoader, Subset\n",
    "from torchvision.utils import draw_bounding_boxes, draw_segmentation_masks\n",
    "from src.models.predict_model import get_model, get_mask, get_prediction\n",
    "from src.models.BetaCellDataset import BetaCellDataset, get_transform\n",
    "from tifffile.tifffile import TiffFile\n",
    "from os.path import join\n",
    "from os import listdir"
   ]
  },
  {
   "cell_type": "code",
   "execution_count": 11,
   "metadata": {},
   "outputs": [],
   "source": [
    "# Set working directory to file location\n",
    "dirr = '/home/gummz/dtu/cell/cell/notebooks'\n",
    "os.chdir('/home/gummz/dtu/cell/cell/notebooks')\n"
   ]
  },
  {
   "cell_type": "code",
   "execution_count": 5,
   "metadata": {},
   "outputs": [
    {
     "name": "stdout",
     "output_type": "stream",
     "text": [
      "Running on cpu.\n",
      "4.5.5\n"
     ]
    }
   ],
   "source": [
    "device = torch.device(\n",
    "    'cuda') if torch.cuda.is_available() else torch.device('cpu')\n",
    "print(f'Running on {device}.')\n",
    "print(cv2.__version__)"
   ]
  },
  {
   "cell_type": "code",
   "execution_count": 17,
   "metadata": {},
   "outputs": [],
   "source": [
    "# Get dataloaders\n",
    "size = 1024\n",
    "img_idx = 1700\n",
    "time_str = '12_03_18H_29M_39S'\n",
    "folder = f'interim/run_{time_str}'\n",
    "# data_tr, data_val = get_dataloaders(resize=size)\n",
    "dataset = BetaCellDataset(transforms=get_transform(train=False), resize=size)\n"
   ]
  },
  {
   "cell_type": "code",
   "execution_count": 50,
   "metadata": {},
   "outputs": [
    {
     "name": "stdout",
     "output_type": "stream",
     "text": [
      "['../../../cell_data/test/patches/duct/duct_ts_LI-2019-04-11-emb5-pos1_tp157-A2B3_D2.tif', '../../../cell_data/test/patches/duct/duct_ts_LI-2019-02-05-emb5-pos2_tp191-A3A4B4C4_B3.tif', '../../../cell_data/test/patches/duct/duct_ts_LI-2019-04-11-emb8-pos3_tp245-A1A4B4_B3.tif', '../../../cell_data/test/patches/duct/duct_ts_LI-2018-11-20-emb6-pos1_tp104-D1_A1.tif', '../../../cell_data/test/patches/duct/duct_ts_LI-2019-06-13-emb2-pos1_tp204-B1C1D1_C4.tif', '../../../cell_data/test/patches/duct/duct_ts_LI-2019-02-05-emb5-pos3_tp210_A1.tif', '../../../cell_data/test/patches/duct/duct_ts_LI-2019-02-05-emb5-pos2_tp191-A3A4B4C4_D1.tif', '../../../cell_data/test/patches/duct/duct_ts_LI-2019-04-11-emb8-pos4_tp229-A1A2D3D4_D1.tif', '../../../cell_data/test/patches/duct/duct_ts_LI-2019-02-05-emb5-pos4_tp133-A4_C1.tif', '../../../cell_data/test/patches/duct/duct_ts_LI-2019-06-13-emb2-pos1_tp204-B1C1D1_D2.tif', '../../../cell_data/test/patches/duct/duct_ts_LI-2018-11-20-emb6-pos1_tp104-D1_C3.tif', '../../../cell_data/test/patches/duct/duct_ts_LI-2018-11-20-emb6-pos1_tp43-D1_B1.tif', '../../../cell_data/test/patches/duct/duct_ts_LI-2015-07-12-emb5-pos1_tp16-D3D4_B1.tif', '../../../cell_data/test/patches/duct/duct_ts_LI-2019-02-05-emb5-pos2_tp191-A3A4B4C4_D3.tif', '../../../cell_data/test/patches/duct/duct_ts_LI-2018-11-20-emb7-pos4_tp10_B3.tif', '../../../cell_data/test/patches/duct/duct_ts_LI-2019-01-17-emb7-pos4_tp158-C1D4_B3.tif', '../../../cell_data/test/patches/duct/duct_ts_LI-2019-07-03-emb7-pos4_tp183-D1D2D4_B2.tif', '../../../cell_data/test/patches/duct/duct_ts_LI-2019-07-03-emb7-pos4_tp183-D1D2D4_C2.tif', '../../../cell_data/test/patches/duct/duct_ts_LI-2019-02-05-emb5-pos3_tp210_B1.tif', '../../../cell_data/test/patches/duct/duct_ts_LI-2019-02-05-emb5-pos4_tp133-A4_B2.tif', '../../../cell_data/test/patches/duct/duct_ts_LI-2015-07-12-emb5-pos1_tp16-D3D4_A3.tif', '../../../cell_data/test/patches/duct/duct_ts_LI-2019-06-13-emb2-pos2_tp32-A1D1_C2.tif', '../../../cell_data/test/patches/duct/duct_ts_LI-2019-04-11-emb5-pos1_tp157-A2B3_A3.tif', '../../../cell_data/test/patches/duct/duct_ts_LI-2019-06-13-emb2-pos2_tp32-A1D1_D4.tif', '../../../cell_data/test/patches/duct/duct_ts_LI-2019-02-05-emb5-pos4_tp133-A4_B3.tif', '../../../cell_data/test/patches/duct/duct_ts_LI-2019-07-03-emb7-pos2_tp98-D3D4_C3.tif', '../../../cell_data/test/patches/duct/duct_ts_LI-2019-04-11-emb8-pos3_tp245-A1A4B4_B1.tif', '../../../cell_data/test/patches/duct/duct_ts_LI-2019-07-03-emb7-pos4_tp183-D1D2D4_C4.tif', '../../../cell_data/test/patches/duct/duct_ts_LI-2019-02-05-emb5-pos4_tp133-A4_B4.tif', '../../../cell_data/test/patches/duct/duct_ts_LI-2019-04-11-emb8-pos4_tp229-A1A2D3D4_B2.tif', '../../../cell_data/test/patches/duct/duct_ts_LI-2019-04-11-emb5-pos1_tp157-A2B3_C1.tif', '../../../cell_data/test/patches/duct/duct_ts_LI-2019-01-17-emb7-pos4_tp217-C4D4_A3.tif', '../../../cell_data/test/patches/duct/duct_ts_LI-2019-07-03-emb7-pos3_tp99-A4_B2.tif', '../../../cell_data/test/patches/duct/duct_ts_LI-2018-11-20-emb7-pos4_tp10_A2.tif', '../../../cell_data/test/patches/duct/duct_ts_LI-2019-07-03-emb1-pos1_tp246-A1A2B1B2B3C1C2D1_A4.tif', '../../../cell_data/test/patches/duct/duct_ts_LI-2019-07-03-emb7-pos2_tp98-D3D4_B4.tif', '../../../cell_data/test/patches/duct/duct_ts_LI-2018-11-20-emb7-pos4_tp71_A4.tif', '../../../cell_data/test/patches/duct/duct_ts_LI-2019-07-03-emb7-pos4_tp183-D1D2D4_A3.tif', '../../../cell_data/test/patches/duct/duct_ts_LI-2018-11-20-emb6-pos1_tp43-D1_D3.tif', '../../../cell_data/test/patches/duct/duct_ts_LI-2019-02-05-emb5-pos3_tp210_A4.tif', '../../../cell_data/test/patches/duct/duct_ts_LI-2019-04-11-emb5-pos1_tp157-A2B3_C3.tif', '../../../cell_data/test/patches/duct/duct_ts_LI-2019-04-11-emb8-pos2_tp68-D1_A4.tif', '../../../cell_data/test/patches/duct/duct_ts_LI-2019-06-13-emb2-pos1_tp204-B1C1D1_A1.tif', '../../../cell_data/test/patches/duct/duct_ts_LI-2019-04-11-emb8-pos2_tp68-D1_B3.tif', '../../../cell_data/test/patches/duct/duct_ts_LI-2019-07-03-emb1-pos1_tp246-A1A2B1B2B3C1C2D1_B4.tif', '../../../cell_data/test/patches/duct/duct_ts_LI-2018-11-20-emb6-pos1_tp104-D1_A4.tif', '../../../cell_data/test/patches/duct/duct_ts_LI-2019-04-11-emb8-pos4_tp229-A1A2D3D4_C1.tif', '../../../cell_data/test/patches/duct/duct_ts_LI-2015-07-12-emb5-pos1_tp16-D3D4_B2.tif', '../../../cell_data/test/patches/duct/duct_ts_LI-2018-11-20-emb6-pos1_tp43-D1_A3.tif', '../../../cell_data/test/patches/duct/duct_ts_LI-2018-11-20-emb7-pos4_tp71_D2.tif', '../../../cell_data/test/patches/duct/duct_ts_LI-2019-07-03-emb7-pos3_tp99-A4_B1.tif', '../../../cell_data/test/patches/duct/duct_ts_LI-2019-06-13-emb2-pos2_tp32-A1D1_C4.tif', '../../../cell_data/test/patches/duct/duct_ts_LI-2019-04-11-emb8-pos2_tp68-D1_D2.tif', '../../../cell_data/test/patches/duct/duct_ts_LI-2019-04-11-emb8-pos3_tp245-A1A4B4_C4.tif', '../../../cell_data/test/patches/duct/duct_ts_LI-2019-02-05-emb5-pos3_tp210_D4.tif', '../../../cell_data/test/patches/duct/duct_ts_LI-2019-06-13-emb2-pos1_tp204-B1C1D1_D3.tif', '../../../cell_data/test/patches/duct/duct_ts_LI-2019-07-03-emb7-pos3_tp99-A4_A1.tif', '../../../cell_data/test/patches/duct/duct_ts_LI-2019-04-11-emb8-pos2_tp68-D1_D3.tif', '../../../cell_data/test/patches/duct/duct_ts_LI-2019-06-13-emb2-pos2_tp32-A1D1_C1.tif', '../../../cell_data/test/patches/duct/duct_ts_LI-2019-07-03-emb1-pos1_tp246-A1A2B1B2B3C1C2D1_C3.tif', '../../../cell_data/test/patches/duct/duct_ts_LI-2019-07-03-emb7-pos2_tp98-D3D4_A1.tif', '../../../cell_data/test/patches/duct/duct_ts_LI-2015-07-12-emb5-pos1_tp16-D3D4_B4.tif', '../../../cell_data/test/patches/duct/duct_ts_LI-2019-02-05-emb5-pos2_tp191-A3A4B4C4_B1.tif', '../../../cell_data/test/patches/duct/duct_ts_LI-2019-04-11-emb8-pos4_tp229-A1A2D3D4_A4.tif', '../../../cell_data/test/patches/duct/duct_ts_LI-2019-07-03-emb7-pos3_tp99-A4_C1.tif', '../../../cell_data/test/patches/duct/duct_ts_LI-2019-04-11-emb8-pos3_tp245-A1A4B4_D4.tif', '../../../cell_data/test/patches/duct/duct_ts_LI-2019-01-17-emb7-pos4_tp158-C1D4_D3.tif', '../../../cell_data/test/patches/duct/duct_ts_LI-2019-01-17-emb7-pos4_tp158-C1D4_D1.tif', '../../../cell_data/test/patches/duct/duct_ts_LI-2019-07-03-emb7-pos2_tp98-D3D4_B2.tif', '../../../cell_data/test/patches/duct/duct_ts_LI-2019-07-03-emb1-pos1_tp246-A1A2B1B2B3C1C2D1_C4.tif']\n"
     ]
    }
   ],
   "source": [
    "test_data_root = '../../../cell_data/test/'\n",
    "test_data_dir = 'patches/duct'\n",
    "\n",
    "\n",
    "files = listdir(join(test_data_root, test_data_dir))\n",
    "# Filter out already used files\n",
    "file_paths = [join(test_data_root, test_data_dir, file) for file in files]\n",
    "file_paths_tif = [file for file in file_paths if 'tif' in file]\n",
    "file_paths_czi = [file for file in file_paths if 'czi' in file]\n",
    "print(file_paths)\n"
   ]
  },
  {
   "cell_type": "code",
   "execution_count": 63,
   "metadata": {},
   "outputs": [
    {
     "name": "stdout",
     "output_type": "stream",
     "text": [
      "/dtu-compute/tubes/raw_data/LI_2019-11-21_emb6_pos3.lsm\n"
     ]
    },
    {
     "ename": "FileNotFoundError",
     "evalue": "[Errno 2] No such file or directory: '/dtu-compute/tubes/raw_data/LI_2019-11-21_emb6_pos3.lsm'",
     "output_type": "error",
     "traceback": [
      "\u001b[0;31m---------------------------------------------------------------------------\u001b[0m",
      "\u001b[0;31mFileNotFoundError\u001b[0m                         Traceback (most recent call last)",
      "\u001b[1;32m/home/gummz/dtu/cell/cell/notebooks/visualize_test.ipynb Cell 6'\u001b[0m in \u001b[0;36m<module>\u001b[0;34m\u001b[0m\n\u001b[1;32m      <a href='vscode-notebook-cell://wsl%2Bubuntu/home/gummz/dtu/cell/cell/notebooks/visualize_test.ipynb#ch0000005vscode-remote?line=1'>2</a>\u001b[0m file_path \u001b[39m=\u001b[39m \u001b[39m'\u001b[39m\u001b[39m/dtu-compute/tubes/raw_data/LI_2019-11-21_emb6_pos3.lsm\u001b[39m\u001b[39m'\u001b[39m\u001b[39m#file_paths_tif[6]\u001b[39;00m\n\u001b[1;32m      <a href='vscode-notebook-cell://wsl%2Bubuntu/home/gummz/dtu/cell/cell/notebooks/visualize_test.ipynb#ch0000005vscode-remote?line=2'>3</a>\u001b[0m \u001b[39mprint\u001b[39m(file_path)\n\u001b[0;32m----> <a href='vscode-notebook-cell://wsl%2Bubuntu/home/gummz/dtu/cell/cell/notebooks/visualize_test.ipynb#ch0000005vscode-remote?line=3'>4</a>\u001b[0m \u001b[39mwith\u001b[39;00m TiffFile(file_path) \u001b[39mas\u001b[39;00m f:\n\u001b[1;32m      <a href='vscode-notebook-cell://wsl%2Bubuntu/home/gummz/dtu/cell/cell/notebooks/visualize_test.ipynb#ch0000005vscode-remote?line=4'>5</a>\u001b[0m     pages \u001b[39m=\u001b[39m f\u001b[39m.\u001b[39mpages  \u001b[39m# f.pages[1::2]\u001b[39;00m\n\u001b[1;32m      <a href='vscode-notebook-cell://wsl%2Bubuntu/home/gummz/dtu/cell/cell/notebooks/visualize_test.ipynb#ch0000005vscode-remote?line=5'>6</a>\u001b[0m     n_img \u001b[39m=\u001b[39m \u001b[39mlen\u001b[39m(pages)\n",
      "File \u001b[0;32m~/anaconda3/envs/cell/lib/python3.8/site-packages/tifffile/tifffile.py:3202\u001b[0m, in \u001b[0;36mTiffFile.__init__\u001b[0;34m(self, arg, mode, name, offset, size, _multifile, _useframes, _parent, **kwargs)\u001b[0m\n\u001b[1;32m   <a href='file:///home/gummz/anaconda3/envs/cell/lib/python3.8/site-packages/tifffile/tifffile.py?line=3198'>3199</a>\u001b[0m \u001b[39mif\u001b[39;00m mode \u001b[39mnot\u001b[39;00m \u001b[39min\u001b[39;00m (\u001b[39mNone\u001b[39;00m, \u001b[39m'\u001b[39m\u001b[39mrb\u001b[39m\u001b[39m'\u001b[39m, \u001b[39m'\u001b[39m\u001b[39mr+b\u001b[39m\u001b[39m'\u001b[39m):\n\u001b[1;32m   <a href='file:///home/gummz/anaconda3/envs/cell/lib/python3.8/site-packages/tifffile/tifffile.py?line=3199'>3200</a>\u001b[0m     \u001b[39mraise\u001b[39;00m \u001b[39mValueError\u001b[39;00m(\u001b[39mf\u001b[39m\u001b[39m'\u001b[39m\u001b[39minvalid mode \u001b[39m\u001b[39m{\u001b[39;00mmode\u001b[39m!r}\u001b[39;00m\u001b[39m'\u001b[39m)\n\u001b[0;32m-> <a href='file:///home/gummz/anaconda3/envs/cell/lib/python3.8/site-packages/tifffile/tifffile.py?line=3201'>3202</a>\u001b[0m fh \u001b[39m=\u001b[39m FileHandle(arg, mode\u001b[39m=\u001b[39;49mmode, name\u001b[39m=\u001b[39;49mname, offset\u001b[39m=\u001b[39;49moffset, size\u001b[39m=\u001b[39;49msize)\n\u001b[1;32m   <a href='file:///home/gummz/anaconda3/envs/cell/lib/python3.8/site-packages/tifffile/tifffile.py?line=3202'>3203</a>\u001b[0m \u001b[39mself\u001b[39m\u001b[39m.\u001b[39m_fh \u001b[39m=\u001b[39m fh\n\u001b[1;32m   <a href='file:///home/gummz/anaconda3/envs/cell/lib/python3.8/site-packages/tifffile/tifffile.py?line=3203'>3204</a>\u001b[0m \u001b[39mself\u001b[39m\u001b[39m.\u001b[39m_multifile \u001b[39m=\u001b[39m \u001b[39mbool\u001b[39m(_multifile)\n",
      "File \u001b[0;32m~/anaconda3/envs/cell/lib/python3.8/site-packages/tifffile/tifffile.py:10536\u001b[0m, in \u001b[0;36mFileHandle.__init__\u001b[0;34m(self, file, mode, name, offset, size)\u001b[0m\n\u001b[1;32m  <a href='file:///home/gummz/anaconda3/envs/cell/lib/python3.8/site-packages/tifffile/tifffile.py?line=10533'>10534</a>\u001b[0m \u001b[39mself\u001b[39m\u001b[39m.\u001b[39mis_file \u001b[39m=\u001b[39m \u001b[39mNone\u001b[39;00m\n\u001b[1;32m  <a href='file:///home/gummz/anaconda3/envs/cell/lib/python3.8/site-packages/tifffile/tifffile.py?line=10534'>10535</a>\u001b[0m \u001b[39mself\u001b[39m\u001b[39m.\u001b[39m_lock \u001b[39m=\u001b[39m NullContext()\n\u001b[0;32m> <a href='file:///home/gummz/anaconda3/envs/cell/lib/python3.8/site-packages/tifffile/tifffile.py?line=10535'>10536</a>\u001b[0m \u001b[39mself\u001b[39;49m\u001b[39m.\u001b[39;49mopen()\n",
      "File \u001b[0;32m~/anaconda3/envs/cell/lib/python3.8/site-packages/tifffile/tifffile.py:10549\u001b[0m, in \u001b[0;36mFileHandle.open\u001b[0;34m(self)\u001b[0m\n\u001b[1;32m  <a href='file:///home/gummz/anaconda3/envs/cell/lib/python3.8/site-packages/tifffile/tifffile.py?line=10546'>10547</a>\u001b[0m \u001b[39mself\u001b[39m\u001b[39m.\u001b[39m_file \u001b[39m=\u001b[39m os\u001b[39m.\u001b[39mpath\u001b[39m.\u001b[39mrealpath(\u001b[39mself\u001b[39m\u001b[39m.\u001b[39m_file)\n\u001b[1;32m  <a href='file:///home/gummz/anaconda3/envs/cell/lib/python3.8/site-packages/tifffile/tifffile.py?line=10547'>10548</a>\u001b[0m \u001b[39mself\u001b[39m\u001b[39m.\u001b[39m_dir, \u001b[39mself\u001b[39m\u001b[39m.\u001b[39m_name \u001b[39m=\u001b[39m os\u001b[39m.\u001b[39mpath\u001b[39m.\u001b[39msplit(\u001b[39mself\u001b[39m\u001b[39m.\u001b[39m_file)\n\u001b[0;32m> <a href='file:///home/gummz/anaconda3/envs/cell/lib/python3.8/site-packages/tifffile/tifffile.py?line=10548'>10549</a>\u001b[0m \u001b[39mself\u001b[39m\u001b[39m.\u001b[39m_fh \u001b[39m=\u001b[39m \u001b[39mopen\u001b[39;49m(\u001b[39mself\u001b[39;49m\u001b[39m.\u001b[39;49m_file, \u001b[39mself\u001b[39;49m\u001b[39m.\u001b[39;49m_mode)\n\u001b[1;32m  <a href='file:///home/gummz/anaconda3/envs/cell/lib/python3.8/site-packages/tifffile/tifffile.py?line=10549'>10550</a>\u001b[0m \u001b[39mself\u001b[39m\u001b[39m.\u001b[39m_close \u001b[39m=\u001b[39m \u001b[39mTrue\u001b[39;00m\n\u001b[1;32m  <a href='file:///home/gummz/anaconda3/envs/cell/lib/python3.8/site-packages/tifffile/tifffile.py?line=10550'>10551</a>\u001b[0m \u001b[39mif\u001b[39;00m \u001b[39mself\u001b[39m\u001b[39m.\u001b[39m_offset \u001b[39mis\u001b[39;00m \u001b[39mNone\u001b[39;00m:\n",
      "\u001b[0;31mFileNotFoundError\u001b[0m: [Errno 2] No such file or directory: '/dtu-compute/tubes/raw_data/LI_2019-11-21_emb6_pos3.lsm'"
     ]
    }
   ],
   "source": [
    "\n",
    "consecutive = False\n",
    "file_path = file_paths_tif[6]\n",
    "print(file_path)\n",
    "with TiffFile(file_path) as f:\n",
    "    pages = f.pages  # f.pages[1::2]\n",
    "    n_img = len(pages)\n",
    "\n",
    "    # Create sample indexes\n",
    "    if consecutive:\n",
    "        randint = np.random.randint(low=0, high=n_img - 9)\n",
    "        idx = np.arange(randint, randint + 9)\n",
    "    else:\n",
    "        idx = sorted([int(i) for i in np.random.randint(0, n_img, 9)])\n",
    "    \n",
    "    print(pages[15].asarray().shape)\n",
    "    sample_images = [pages[i].asarray() for i in idx]\n",
    "    plt.figure(figsize=(10, 10))\n",
    "    for i, (j, image) in enumerate(zip(idx, sample_images)):\n",
    "        # Create plot of sample images\n",
    "        plt.subplot(3, 3, i + 1)\n",
    "        plt.imshow(image)\n",
    "        plt.axis('off')\n",
    "        plt.title(f'Page {j}', fontsize=18)\n",
    "\n",
    "    title = f'Filename: {file_path.split(\"/\")[-1]}\\nPages: {len(f.pages)}'\n",
    "    plt.suptitle(title, fontsize=24)\n",
    "    # save = join(FIG_DIR, operation, f'{file}.jpg')\n",
    "    plt.show()\n"
   ]
  }
 ],
 "metadata": {
  "interpreter": {
   "hash": "effe4183d16dd39588d1f51d393e87de76574c8038ca5022680fc6aa290f4ec0"
  },
  "kernelspec": {
   "display_name": "Python 3.8.2 ('venv_1': venv)",
   "language": "python",
   "name": "python3"
  },
  "language_info": {
   "codemirror_mode": {
    "name": "ipython",
    "version": 3
   },
   "file_extension": ".py",
   "mimetype": "text/x-python",
   "name": "python",
   "nbconvert_exporter": "python",
   "pygments_lexer": "ipython3",
   "version": "3.8.12"
  },
  "orig_nbformat": 4
 },
 "nbformat": 4,
 "nbformat_minor": 2
}
